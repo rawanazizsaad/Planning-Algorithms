{
 "cells": [
  {
   "cell_type": "code",
   "execution_count": 2,
   "metadata": {},
   "outputs": [],
   "source": [
    "import numpy as np\n",
    "import random\n",
    "from sympy import cycle_length\n",
    "\n",
    "def traverse_graph(g, source_node = 0):\n",
    "    ALPHA = 0.9\n",
    "    BETA = 1.5\n",
    "    visited = np.asarray([1 for _ in range(g.nodes)]) #originally no nodes have been visited\n",
    "    visited[source_node] = 0 # except the initial/source node.\n",
    "\n",
    "    cycle = [source_node]\n",
    "    steps = 0\n",
    "    current = source_node\n",
    "    total_length = 0\n",
    "    while steps < g.nodes -1:\n",
    "\n",
    "        jumps_neighbors = []\n",
    "        jumps_values = []\n",
    "        for node in range(g.nodes):\n",
    "            if visited[node] != 0:\n",
    "               pheromone_level = max(g.intensity[current][node], 1e-5) #constant added to encourage exploration\n",
    "               v = (pheromone_level**ALPHA ) / (g.distance[current][node]**BETA) \n",
    "               jumps_neighbors.append(node)\n",
    "               jumps_values.append(v)\n",
    "\n",
    "        next_node = random.choices(jumps_neighbors, weights = jumps_values)[0] # weighted (normalized) choice\n",
    "       \n",
    "        visited[next_node] = 0\n",
    "        current = next_node\n",
    "        cycle.append(current)\n",
    "        steps+=1\n",
    "\n",
    "    total_length = cycle_length(g, cycle) # just adds all the distances\n",
    "    assert len(list(set(cycle))) == len(cycle)\n",
    "    return cycle, total_length"
   ]
  },
  {
   "cell_type": "code",
   "execution_count": 3,
   "metadata": {},
   "outputs": [
    {
     "name": "stdout",
     "output_type": "stream",
     "text": [
      "<function cycle_length at 0x0000021FADA06710>\n"
     ]
    }
   ],
   "source": [
    "print (cycle_length)"
   ]
  },
  {
   "cell_type": "code",
   "execution_count": null,
   "metadata": {},
   "outputs": [],
   "source": []
  }
 ],
 "metadata": {
  "kernelspec": {
   "display_name": "Python 3",
   "language": "python",
   "name": "python3"
  },
  "language_info": {
   "codemirror_mode": {
    "name": "ipython",
    "version": 3
   },
   "file_extension": ".py",
   "mimetype": "text/x-python",
   "name": "python",
   "nbconvert_exporter": "python",
   "pygments_lexer": "ipython3",
   "version": "3.10.6"
  },
  "orig_nbformat": 4
 },
 "nbformat": 4,
 "nbformat_minor": 2
}
